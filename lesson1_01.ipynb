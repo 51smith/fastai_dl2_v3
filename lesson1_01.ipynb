{
 "cells": [
  {
   "cell_type": "markdown",
   "metadata": {},
   "source": [
    "# Lesson 1"
   ]
  },
  {
   "cell_type": "markdown",
   "metadata": {},
   "source": [
    "This is a reimplementation of fastai part 2 version 3 in Swift.\n",
    "https://github.com/fastai/fastai_docs/blob/master/dev_course/dl2/01_matmul.ipynb"
   ]
  },
  {
   "cell_type": "markdown",
   "metadata": {},
   "source": [
    "note: this requires my fork of [swift-jupyter](https://github.com/metachi/swift-jupyter) and a clone of my [TimeMagic](https://github.com/metachi/TimeMagic) repo for the ```%%time``` and ```%%timeit``` magic commands to work"
   ]
  },
  {
   "cell_type": "code",
   "execution_count": 1,
   "metadata": {},
   "outputs": [
    {
     "name": "stdout",
     "output_type": "stream",
     "text": [
      "Installing packages:\n",
      "\t.package(path: \"~/gitrepos/TimeMagic\")\n",
      "\t\tTimeMagic\n",
      "\t.package(url: \"https://github.com/mxcl/Path.swift\", from: \"0.16.1\")\n",
      "\t\tPath\n",
      "\t.package(url: \"https://github.com/JustHTTP/Just\", from: \"0.7.1\")\n",
      "\t\tJust\n",
      "Fetching https://github.com/mxcl/Path.swift\n",
      "Fetching https://github.com/JustHTTP/Just\n",
      "Completed resolution in 1.50s\n",
      "Cloning https://github.com/JustHTTP/Just\n",
      "Resolving https://github.com/JustHTTP/Just at 0.7.1\n",
      "Cloning https://github.com/mxcl/Path.swift\n",
      "Resolving https://github.com/mxcl/Path.swift at 0.16.2\n",
      "Compile Swift Module 'TimeMagic' (1 sources)\n",
      "Compile Swift Module 'Just' (1 sources)\n",
      "Compile Swift Module 'Path' (9 sources)\n",
      "Compile Swift Module 'jupyterInstalledPackages' (1 sources)\n",
      "Linking ./.build/x86_64-unknown-linux/debug/libjupyterInstalledPackages.so\n",
      "Installation complete!"
     ]
    }
   ],
   "source": [
    "%install '.package(path: \"~/gitrepos/TimeMagic\")' TimeMagic\n",
    "%install '.package(url: \"https://github.com/mxcl/Path.swift\", from: \"0.16.1\")' Path\n",
    "%install '.package(url: \"https://github.com/JustHTTP/Just\", from: \"0.7.1\")' Just"
   ]
  },
  {
   "cell_type": "code",
   "execution_count": 2,
   "metadata": {},
   "outputs": [],
   "source": [
    "import TimeMagic\n",
    "import Foundation\n",
    "import Path\n",
    "import Just"
   ]
  },
  {
   "cell_type": "markdown",
   "metadata": {},
   "source": [
    "### Download Dataset"
   ]
  },
  {
   "cell_type": "code",
   "execution_count": 3,
   "metadata": {},
   "outputs": [
    {
     "name": "stdout",
     "output_type": "stream",
     "text": [
      "/home/jeff/.fastai/data/test.txt\r\n"
     ]
    }
   ],
   "source": [
    "print(Path.home/\".fastai\"/\"data\"/\"test.txt\")"
   ]
  },
  {
   "cell_type": "code",
   "execution_count": 4,
   "metadata": {},
   "outputs": [],
   "source": [
    "public func download(_ url: String, dest: String){\n",
    "    let r = Just.get(url, allowRedirects:false)\n",
    "    do {\n",
    "        try r.content!.write(to: URL.init(fileURLWithPath: dest))\n",
    "    } catch {\n",
    "        print(\"error downloading \\(url)\")\n",
    "    }\n",
    "}"
   ]
  },
  {
   "cell_type": "code",
   "execution_count": 5,
   "metadata": {},
   "outputs": [],
   "source": [
    "let base = \"http://yann.lecun.com/exdb/mnist/\"\n",
    "let trn_imgs = \"train-images-idx3-ubyte\"\n",
    "let trn_lbls = \"train-labels-idx1-ubyte\"\n",
    "let val_imgs = \"t10k-images-idx3-ubyte\"\n",
    "let val_lbls = \"t10k-labels-idx1-ubyte\" "
   ]
  },
  {
   "cell_type": "code",
   "execution_count": 6,
   "metadata": {},
   "outputs": [],
   "source": [
    "let dest = Path.home/\".fastai\"/\"data\"/\"mnist\""
   ]
  },
  {
   "cell_type": "code",
   "execution_count": 7,
   "metadata": {},
   "outputs": [],
   "source": [
    "if !dest.exists{\n",
    "    dest.mkdir()\n",
    "}"
   ]
  },
  {
   "cell_type": "code",
   "execution_count": 8,
   "metadata": {},
   "outputs": [],
   "source": [
    "for fileName in [trn_imgs, trn_lbls, val_imgs, val_lbls] {\n",
    "    var destPath = dest/(fileName)\n",
    "    if !destPath.exists{\n",
    "        download(\"\\(base)/\\(fileName)\", dest: destPath.string + \".gz\")\n",
    "    }\n",
    "}"
   ]
  },
  {
   "cell_type": "code",
   "execution_count": 9,
   "metadata": {
    "scrolled": true
   },
   "outputs": [
    {
     "name": "stdout",
     "output_type": "stream",
     "text": [
      "/home/jeff/.fastai/data/mnist/t10k-labels-idx1-ubyte\r\n",
      "/home/jeff/.fastai/data/mnist/train-labels-idx1-ubyte\r\n",
      "/home/jeff/.fastai/data/mnist/train-images-idx3-ubyte\r\n",
      "/home/jeff/.fastai/data/mnist/t10k-images-idx3-ubyte\r\n"
     ]
    }
   ],
   "source": [
    "for n in dest.ls() {\n",
    "    print(n.path)\n",
    "}"
   ]
  },
  {
   "cell_type": "markdown",
   "metadata": {},
   "source": [
    "gunzip the files"
   ]
  },
  {
   "cell_type": "code",
   "execution_count": 10,
   "metadata": {
    "scrolled": true
   },
   "outputs": [
    {
     "name": "stdout",
     "output_type": "stream",
     "text": [
      "/home/jeff/.fastai/data/mnist/t10k-labels-idx1-ubyte\r\n",
      "/home/jeff/.fastai/data/mnist/train-labels-idx1-ubyte\r\n",
      "/home/jeff/.fastai/data/mnist/train-images-idx3-ubyte\r\n",
      "/home/jeff/.fastai/data/mnist/t10k-images-idx3-ubyte\r\n"
     ]
    }
   ],
   "source": [
    "for n in dest.ls() {\n",
    "    print(n.path)\n",
    "}"
   ]
  },
  {
   "cell_type": "markdown",
   "metadata": {},
   "source": [
    "### Load the dataset"
   ]
  },
  {
   "cell_type": "code",
   "execution_count": 11,
   "metadata": {},
   "outputs": [],
   "source": [
    "import TensorFlow"
   ]
  },
  {
   "cell_type": "markdown",
   "metadata": {},
   "source": [
    "See [Yann Lecunn's site](http://yann.lecun.com/exdb/mnist/) for info on why we have to drop the first few k bits.  See the \"TRAINING SET LABEL FILE\" heading and similarly named headings."
   ]
  },
  {
   "cell_type": "code",
   "execution_count": 12,
   "metadata": {},
   "outputs": [],
   "source": [
    "func loadData(path: String, shape: [Int32], is_label: Bool) -> Tensor<Float> {\n",
    "    let dropK: Int = (is_label ? 8 : 16)\n",
    "    let data = try! Data.init(contentsOf: \n",
    "                     URL.init(fileURLWithPath: path)\n",
    "                    ).dropFirst(dropK)\n",
    "    let tensorShape = TensorShape.init(shape)\n",
    "    return Tensor(data.map(Float.init)).reshaped(to: tensorShape)\n",
    "}"
   ]
  },
  {
   "cell_type": "code",
   "execution_count": 13,
   "metadata": {
    "scrolled": true
   },
   "outputs": [],
   "source": [
    "let xTrain: Tensor<Float> = loadData(path: (dest/trn_imgs).string,\n",
    "                   shape: [60000, 784],\n",
    "                   is_label: false)"
   ]
  },
  {
   "cell_type": "code",
   "execution_count": 14,
   "metadata": {},
   "outputs": [],
   "source": [
    "let yTrain: Tensor<Float> = loadData(path: (dest/trn_lbls).string,\n",
    "                   shape: [60000],\n",
    "                   is_label: true)"
   ]
  },
  {
   "cell_type": "code",
   "execution_count": 15,
   "metadata": {},
   "outputs": [],
   "source": [
    "let xValid: Tensor<Float> = loadData(path: (dest/val_imgs).string,\n",
    "                   shape: [10000, 784],\n",
    "                   is_label: false)"
   ]
  },
  {
   "cell_type": "code",
   "execution_count": 16,
   "metadata": {},
   "outputs": [],
   "source": [
    "let yValid: Tensor<Float> = loadData(path: (dest/val_lbls).string,\n",
    "                   shape: [10000],\n",
    "                   is_label: true)"
   ]
  },
  {
   "cell_type": "code",
   "execution_count": null,
   "metadata": {},
   "outputs": [],
   "source": []
  },
  {
   "cell_type": "code",
   "execution_count": null,
   "metadata": {},
   "outputs": [],
   "source": []
  },
  {
   "cell_type": "code",
   "execution_count": 17,
   "metadata": {},
   "outputs": [],
   "source": [
    "import Python"
   ]
  },
  {
   "cell_type": "code",
   "execution_count": 18,
   "metadata": {},
   "outputs": [],
   "source": [
    "let np = Python.import(\"numpy\")\n",
    "let plt = Python.import(\"matplotlib.pyplot\")"
   ]
  },
  {
   "cell_type": "code",
   "execution_count": 19,
   "metadata": {},
   "outputs": [
    {
     "data": {
      "text/plain": [
       "('inline', 'module://ipykernel.pylab.backend_inline')\n"
      ]
     },
     "execution_count": 19,
     "metadata": {},
     "output_type": "execute_result"
    }
   ],
   "source": [
    "%include \"EnableIPythonDisplay.swift\"\n",
    "IPythonDisplay.shell.enable_matplotlib(\"inline\")"
   ]
  },
  {
   "cell_type": "code",
   "execution_count": 20,
   "metadata": {},
   "outputs": [],
   "source": [
    "let img = np.array(xTrain[0].array.scalars).reshape(28,28)"
   ]
  },
  {
   "cell_type": "code",
   "execution_count": 21,
   "metadata": {
    "scrolled": true
   },
   "outputs": [
    {
     "name": "stdout",
     "output_type": "stream",
     "text": [
      "Label: 5.0\r\n"
     ]
    },
    {
     "data": {
      "image/png": "[encoded data removed]",
      "text/plain": [
       "<Figure size 360x360 with 1 Axes>"
      ]
     },
     "metadata": {},
     "output_type": "display_data"
    }
   ],
   "source": [
    "plt.figure(figsize: [5,5])\n",
    "let fig = plt.imshow(X:img, cmap:\"gray\")\n",
    "plt.show(fig)\n",
    "print(\"Label: \\(yTrain[0])\")"
   ]
  },
  {
   "cell_type": "markdown",
   "metadata": {},
   "source": [
    "### Initial Model"
   ]
  },
  {
   "cell_type": "code",
   "execution_count": 22,
   "metadata": {},
   "outputs": [],
   "source": [
    "func getRandomWeights<G: RandomNumberGenerator>(shape: TensorShape,\n",
    "                                   mean: Float = 0,\n",
    "                                   stddev: Float = 1,\n",
    "                                   generator: inout G) -> Tensor<Float> {\n",
    "        let dist = NormalDistribution<Float>(mean: mean, standardDeviation: stddev)\n",
    "        var scalars: [Float] = []\n",
    "        for _ in 0 ..< shape.contiguousSize {\n",
    "            scalars.append(dist.next(using: &generator))\n",
    "        }\n",
    "        return Tensor(shape: shape, scalars: scalars)\n",
    "}"
   ]
  },
  {
   "cell_type": "code",
   "execution_count": 23,
   "metadata": {},
   "outputs": [],
   "source": [
    "// simplified kaiming init / he init\n",
    "var weights = getRandomWeights(shape: [784, 10],\n",
    "                               mean: 0,\n",
    "                               stddev: 1,\n",
    "                               generator: &ThreefryRandomNumberGenerator.global)/sqrt(784)"
   ]
  },
  {
   "cell_type": "code",
   "execution_count": 24,
   "metadata": {
    "scrolled": true
   },
   "outputs": [
    {
     "data": {
      "text/plain": [
       "[0.0051857596, 0.037815005, 0.06357259, -0.0038750467, 0.024649912, 0.044270515, 0.03907328, 0.028337117, 0.03336807, 0.0038186829]\n"
      ]
     },
     "execution_count": 24,
     "metadata": {},
     "output_type": "execute_result"
    }
   ],
   "source": [
    "weights[0]"
   ]
  },
  {
   "cell_type": "code",
   "execution_count": 25,
   "metadata": {},
   "outputs": [],
   "source": [
    "var bias = Tensor<Float>(zeros: [10])"
   ]
  },
  {
   "cell_type": "code",
   "execution_count": 26,
   "metadata": {},
   "outputs": [
    {
     "data": {
      "text/plain": [
       "[0.0, 0.0, 0.0, 0.0, 0.0, 0.0, 0.0, 0.0, 0.0, 0.0]\n"
      ]
     },
     "execution_count": 26,
     "metadata": {},
     "output_type": "execute_result"
    }
   ],
   "source": [
    "bias"
   ]
  },
  {
   "cell_type": "markdown",
   "metadata": {},
   "source": [
    "Matrix Multiply"
   ]
  },
  {
   "cell_type": "code",
   "execution_count": 27,
   "metadata": {},
   "outputs": [],
   "source": [
    "var m1 = xValid.slice(lowerBounds: [0,0], upperBounds: [5,784])\n",
    "var m2 = weights"
   ]
  },
  {
   "cell_type": "code",
   "execution_count": 28,
   "metadata": {},
   "outputs": [
    {
     "data": {
      "text/plain": [
       "▿ TensorShape\n",
       "  ▿ dimensions : 2 elements\n",
       "    - 0 : 5\n",
       "    - 1 : 784\n"
      ]
     },
     "execution_count": 28,
     "metadata": {},
     "output_type": "execute_result"
    }
   ],
   "source": [
    "m1.shape"
   ]
  },
  {
   "cell_type": "code",
   "execution_count": 29,
   "metadata": {},
   "outputs": [
    {
     "data": {
      "text/plain": [
       "784\n"
      ]
     },
     "execution_count": 29,
     "metadata": {},
     "output_type": "execute_result"
    }
   ],
   "source": [
    "m2.shape[0]"
   ]
  },
  {
   "cell_type": "code",
   "execution_count": 30,
   "metadata": {},
   "outputs": [],
   "source": [
    "func slowMatMul<Scalar: Numeric>(_ x: Tensor<Scalar>, _ y: Tensor<Scalar>) -> Tensor<Scalar> {\n",
    "    let xr = x.shape[0]\n",
    "    let xc = x.shape[1]\n",
    "    let yr = y.shape[0]\n",
    "    let yc = y.shape[1]\n",
    "    assert(xc == yr)\n",
    "    var z = Tensor<Scalar>(zeros: [xr, yc])\n",
    "    for i in 0..<xr {\n",
    "        for j in 0..<yc {\n",
    "            for k in 0..<xc {\n",
    "                z[i][j] += x[i][k] * y[k][j]\n",
    "            }\n",
    "        }\n",
    "    }\n",
    "    return z\n",
    "}"
   ]
  },
  {
   "attachments": {
    "image.png": {
     "image/png": "[encoded data removed]"
    }
   },
   "cell_type": "markdown",
   "metadata": {},
   "source": [
    "quick test of slow matrix multiply\n",
    "![image.png](attachment:image.png)"
   ]
  },
  {
   "cell_type": "code",
   "execution_count": 31,
   "metadata": {},
   "outputs": [
    {
     "data": {
      "text/plain": [
       "[[20.0, 26.0], [56.0, 80.0]]\n"
      ]
     },
     "execution_count": 31,
     "metadata": {},
     "output_type": "execute_result"
    }
   ],
   "source": [
    "slowMatMul(\n",
    "    Tensor(rangeFrom: 0, to: 6, stride: 1).reshaped(to: [2,3]),\n",
    "    Tensor(rangeFrom: 0, to: 12, stride: 2).reshaped(to: [3,2])\n",
    ")"
   ]
  },
  {
   "cell_type": "code",
   "execution_count": 32,
   "metadata": {},
   "outputs": [
    {
     "name": "stdout",
     "output_type": "stream",
     "text": [
      "Max: 219.917889293 seconds\r\n",
      "Min: 214.322750312 seconds\r\n",
      "Mean: 271.18748346525 seconds\r\n",
      "Std Dev: 60.672921457676935 seconds\r\n"
     ]
    }
   ],
   "source": [
    "%%timeit 4\n",
    "var _ = slowMatMul(m1, m2)"
   ]
  },
  {
   "cell_type": "code",
   "execution_count": null,
   "metadata": {},
   "outputs": [],
   "source": []
  },
  {
   "cell_type": "markdown",
   "metadata": {},
   "source": [
    "Elementwise Matrix Multiply"
   ]
  },
  {
   "cell_type": "code",
   "execution_count": 33,
   "metadata": {},
   "outputs": [],
   "source": [
    "func elementWiseMatMul<Scalar: Numeric>(_ x: Tensor<Scalar>, _ y: Tensor<Scalar>) -> Tensor<Scalar> {\n",
    "    let xr = x.shape[0]\n",
    "    let xc = x.shape[1]\n",
    "    let yr = y.shape[0]\n",
    "    let yc = y.shape[1]\n",
    "    assert(xc == yr)\n",
    "    var z = Tensor<Scalar>(zeros: [xr, yc])\n",
    "    for i in 0..<xr {\n",
    "        for j in 0..<yc {\n",
    "            z[i][j] = (x[i] * y.slice(lowerBounds: [0,j], upperBounds: [yr, j+1]).reshaped(to: [yr])).sum()\n",
    "        }\n",
    "    }\n",
    "    return z\n",
    "}"
   ]
  },
  {
   "attachments": {
    "image.png": {
     "image/png": "[encoded data removed]"
    }
   },
   "cell_type": "markdown",
   "metadata": {},
   "source": [
    "quick test of elementwise matrix multiply\n",
    "![image.png](attachment:image.png)"
   ]
  },
  {
   "cell_type": "code",
   "execution_count": 34,
   "metadata": {},
   "outputs": [
    {
     "data": {
      "text/plain": [
       "[[20.0, 26.0], [56.0, 80.0]]\n"
      ]
     },
     "execution_count": 34,
     "metadata": {},
     "output_type": "execute_result"
    }
   ],
   "source": [
    "elementWiseMatMul(\n",
    "    Tensor(rangeFrom: 0, to: 6, stride: 1).reshaped(to: [2,3]),\n",
    "    Tensor(rangeFrom: 0, to: 12, stride: 2).reshaped(to: [3,2])\n",
    ")"
   ]
  },
  {
   "cell_type": "code",
   "execution_count": 35,
   "metadata": {},
   "outputs": [
    {
     "name": "stdout",
     "output_type": "stream",
     "text": [
      "Max: 231.259819 ms\r\n",
      "Min: 200.154454 ms\r\n",
      "Mean: 220.60740902 ms\r\n",
      "Std Dev: 5.7628780010391045 ms\r\n"
     ]
    }
   ],
   "source": [
    "%%timeit 50\n",
    "// 1000 iterations takes too long...\n",
    "var _ = elementWiseMatMul(m1, m2)"
   ]
  },
  {
   "cell_type": "markdown",
   "metadata": {},
   "source": [
    "### Broadcasting"
   ]
  },
  {
   "cell_type": "code",
   "execution_count": 36,
   "metadata": {},
   "outputs": [],
   "source": [
    "var a = Tensor([10.0,  6.0, -4.0])"
   ]
  },
  {
   "cell_type": "code",
   "execution_count": 37,
   "metadata": {},
   "outputs": [
    {
     "data": {
      "text/plain": [
       "[10.0, 6.0, -4.0]\n"
      ]
     },
     "execution_count": 37,
     "metadata": {},
     "output_type": "execute_result"
    }
   ],
   "source": [
    "a"
   ]
  },
  {
   "cell_type": "code",
   "execution_count": 38,
   "metadata": {},
   "outputs": [
    {
     "data": {
      "text/plain": [
       "false\n"
      ]
     },
     "execution_count": 38,
     "metadata": {},
     "output_type": "execute_result"
    }
   ],
   "source": [
    "// note this does not appear to work in S4TF\n",
    "a > 0"
   ]
  },
  {
   "cell_type": "markdown",
   "metadata": {},
   "source": [
    "Broadcasting with scalars"
   ]
  },
  {
   "cell_type": "code",
   "execution_count": 39,
   "metadata": {},
   "outputs": [
    {
     "data": {
      "text/plain": [
       "[11.0, 7.0, -3.0]\n"
      ]
     },
     "execution_count": 39,
     "metadata": {},
     "output_type": "execute_result"
    }
   ],
   "source": [
    "a + 1"
   ]
  },
  {
   "cell_type": "code",
   "execution_count": 40,
   "metadata": {},
   "outputs": [],
   "source": [
    "var m = Tensor(rangeFrom: 1, to: 10, stride: 1).reshaped(to: [3,3])"
   ]
  },
  {
   "cell_type": "code",
   "execution_count": 41,
   "metadata": {},
   "outputs": [
    {
     "data": {
      "text/plain": [
       "[[1.0, 2.0, 3.0], [4.0, 5.0, 6.0], [7.0, 8.0, 9.0]]\n"
      ]
     },
     "execution_count": 41,
     "metadata": {},
     "output_type": "execute_result"
    }
   ],
   "source": [
    "m"
   ]
  },
  {
   "cell_type": "code",
   "execution_count": 42,
   "metadata": {
    "scrolled": true
   },
   "outputs": [
    {
     "data": {
      "text/plain": [
       "[[2.0, 4.0, 6.0], [8.0, 10.0, 12.0], [14.0, 16.0, 18.0]]\n"
      ]
     },
     "execution_count": 42,
     "metadata": {},
     "output_type": "execute_result"
    }
   ],
   "source": [
    "2*m"
   ]
  },
  {
   "cell_type": "markdown",
   "metadata": {},
   "source": [
    "Broadcasting with vectors"
   ]
  },
  {
   "cell_type": "code",
   "execution_count": 43,
   "metadata": {},
   "outputs": [
    {
     "data": {
      "text/plain": [
       "[10.0, 20.0, 30.0]\n"
      ]
     },
     "execution_count": 43,
     "metadata": {},
     "output_type": "execute_result"
    }
   ],
   "source": [
    "var c = Tensor([10.0, 20.0, 30.0]); c"
   ]
  },
  {
   "cell_type": "code",
   "execution_count": 44,
   "metadata": {},
   "outputs": [
    {
     "data": {
      "text/plain": [
       "[[1.0, 2.0, 3.0], [4.0, 5.0, 6.0], [7.0, 8.0, 9.0]]\n"
      ]
     },
     "execution_count": 44,
     "metadata": {},
     "output_type": "execute_result"
    }
   ],
   "source": [
    "m"
   ]
  },
  {
   "cell_type": "code",
   "execution_count": 45,
   "metadata": {},
   "outputs": [
    {
     "name": "stdout",
     "output_type": "stream",
     "text": [
      "TensorShape(dimensions: [3, 3])\n",
      "TensorShape(dimensions: [3])\n"
     ]
    }
   ],
   "source": [
    "print(m.shape); print(c.shape)"
   ]
  },
  {
   "cell_type": "code",
   "execution_count": 46,
   "metadata": {},
   "outputs": [
    {
     "data": {
      "text/plain": [
       "[[11.0, 22.0, 33.0], [14.0, 25.0, 36.0], [17.0, 28.0, 39.0]]\n"
      ]
     },
     "execution_count": 46,
     "metadata": {},
     "output_type": "execute_result"
    }
   ],
   "source": [
    "m + c"
   ]
  },
  {
   "cell_type": "code",
   "execution_count": 47,
   "metadata": {
    "scrolled": true
   },
   "outputs": [
    {
     "data": {
      "text/plain": [
       "[[11.0, 22.0, 33.0], [14.0, 25.0, 36.0], [17.0, 28.0, 39.0]]\n"
      ]
     },
     "execution_count": 47,
     "metadata": {},
     "output_type": "execute_result"
    }
   ],
   "source": [
    "c + m"
   ]
  },
  {
   "cell_type": "markdown",
   "metadata": {},
   "source": [
    "At first glance, does not appear S4TF has an equivalent of the PyTorch ```Tensor.expand_as()```.  The closest thing to ```Tensor.storage()``` I could find is below."
   ]
  },
  {
   "cell_type": "code",
   "execution_count": 48,
   "metadata": {
    "scrolled": false
   },
   "outputs": [
    {
     "data": {
      "text/plain": [
       "3\n"
      ]
     },
     "execution_count": 48,
     "metadata": {},
     "output_type": "execute_result"
    }
   ],
   "source": [
    "c.scalarCount"
   ]
  },
  {
   "cell_type": "markdown",
   "metadata": {},
   "source": [
    "No indexing with None like in numpy"
   ]
  },
  {
   "cell_type": "code",
   "execution_count": 49,
   "metadata": {},
   "outputs": [
    {
     "data": {
      "text/plain": [
       "[[10.0, 20.0, 30.0]]\n"
      ]
     },
     "execution_count": 49,
     "metadata": {},
     "output_type": "execute_result"
    }
   ],
   "source": [
    "c.expandingShape(at: 0)"
   ]
  },
  {
   "cell_type": "code",
   "execution_count": 50,
   "metadata": {},
   "outputs": [
    {
     "data": {
      "text/plain": [
       "[[10.0], [20.0], [30.0]]\n"
      ]
     },
     "execution_count": 50,
     "metadata": {},
     "output_type": "execute_result"
    }
   ],
   "source": [
    "c.expandingShape(at: 1)"
   ]
  },
  {
   "cell_type": "code",
   "execution_count": 51,
   "metadata": {},
   "outputs": [
    {
     "data": {
      "text/plain": [
       "[[11.0, 12.0, 13.0], [24.0, 25.0, 26.0], [37.0, 38.0, 39.0]]\n"
      ]
     },
     "execution_count": 51,
     "metadata": {},
     "output_type": "execute_result"
    }
   ],
   "source": [
    "m + c.expandingShape(at: 1)"
   ]
  },
  {
   "cell_type": "markdown",
   "metadata": {},
   "source": [
    "Matrix Multiply with broadcasting"
   ]
  },
  {
   "cell_type": "markdown",
   "metadata": {},
   "source": [
    "note: S4TF does not have a sum by axis (or min, or max...etc.)\n",
    "we have to convert to np and back to accomplish this"
   ]
  },
  {
   "cell_type": "code",
   "execution_count": 52,
   "metadata": {},
   "outputs": [
    {
     "data": {
      "text/plain": [
       "▿ Optional<Tensor<Float>>\n",
       "  - some : [12.0, 15.0, 18.0]\n"
      ]
     },
     "execution_count": 52,
     "metadata": {},
     "output_type": "execute_result"
    }
   ],
   "source": [
    "Tensor<Float>(numpy: np.sum(m.makeNumpyArray(), axis:0, dtype: np.float32))"
   ]
  },
  {
   "cell_type": "code",
   "execution_count": 53,
   "metadata": {},
   "outputs": [
    {
     "data": {
      "text/plain": [
       "▿ Optional<Tensor<Float>>\n",
       "  - some : [12.0, 15.0, 18.0]\n"
      ]
     },
     "execution_count": 53,
     "metadata": {},
     "output_type": "execute_result"
    }
   ],
   "source": [
    "Tensor<Float>(numpy: np.sum(m.makeNumpyArray(), axis:0, dtype: np.float32))"
   ]
  },
  {
   "cell_type": "code",
   "execution_count": 54,
   "metadata": {},
   "outputs": [],
   "source": [
    "func broadcastMatMul<Scalar: Numeric & NumpyScalarCompatible>(_ x: Tensor<Scalar>, _ y: Tensor<Scalar>) -> Tensor<Scalar> {\n",
    "    let xr = x.shape[0]\n",
    "    let xc = x.shape[1]\n",
    "    let yr = y.shape[0]\n",
    "    let yc = y.shape[1]\n",
    "    assert(xc == yr)\n",
    "    var z = Tensor<Scalar>(zeros: [xr, yc])\n",
    "    for i in 0..<xr {\n",
    "        z[i] = Tensor<Scalar>(numpy:\n",
    "            np.sum((x[i].expandingShape(at: -1) * y).makeNumpyArray(),\n",
    "                axis:0, dtype: Scalar.numpyScalarTypes[0]) //TODO: dynamically convert type\n",
    "        )!\n",
    "    }\n",
    "    return z\n",
    "}"
   ]
  },
  {
   "attachments": {
    "image.png": {
     "image/png": "[encoded data removed]"
    }
   },
   "cell_type": "markdown",
   "metadata": {},
   "source": [
    "quick test of elementwise matrix multiply\n",
    "![image.png](attachment:image.png)"
   ]
  },
  {
   "cell_type": "code",
   "execution_count": 55,
   "metadata": {},
   "outputs": [
    {
     "data": {
      "text/plain": [
       "[[20.0, 26.0], [56.0, 80.0]]\n"
      ]
     },
     "execution_count": 55,
     "metadata": {},
     "output_type": "execute_result"
    }
   ],
   "source": [
    "broadcastMatMul(\n",
    "    Tensor(rangeFrom: 0, to: 6, stride: 1).reshaped(to: [2,3]),\n",
    "    Tensor(rangeFrom: 0, to: 12, stride: 2).reshaped(to: [3,2])\n",
    ")"
   ]
  },
  {
   "cell_type": "code",
   "execution_count": 56,
   "metadata": {},
   "outputs": [
    {
     "name": "stdout",
     "output_type": "stream",
     "text": [
      "Max: 20.824353 ms\r\n",
      "Min: 11.927272 ms\r\n",
      "Mean: 12.83535536 ms\r\n",
      "Std Dev: 1.571161698850327 ms\r\n"
     ]
    }
   ],
   "source": [
    "%%timeit 50\n",
    "// 1000 iterations takes too long...\n",
    "var _ = broadcastMatMul(m1, m2)"
   ]
  },
  {
   "cell_type": "code",
   "execution_count": null,
   "metadata": {},
   "outputs": [],
   "source": []
  },
  {
   "cell_type": "markdown",
   "metadata": {},
   "source": [
    "### Tensorflow Op"
   ]
  },
  {
   "cell_type": "code",
   "execution_count": 57,
   "metadata": {},
   "outputs": [
    {
     "name": "stdout",
     "output_type": "stream",
     "text": [
      "Max: 35.324 µs\r\n",
      "Min: 9.744 µs\r\n",
      "Mean: 10.025668 µs\r\n",
      "Std Dev: 990.1857596543315 ns\r\n"
     ]
    }
   ],
   "source": [
    "%%timeit 1000\n",
    "var _ = matmul(m1, m2)"
   ]
  },
  {
   "cell_type": "code",
   "execution_count": null,
   "metadata": {},
   "outputs": [],
   "source": []
  }
 ],
 "metadata": {
  "kernelspec": {
   "display_name": "Swift",
   "language": "swift",
   "name": "swift"
  },
  "language_info": {
   "file_extension": ".swift",
   "mimetype": "text/x-swift",
   "name": "swift",
   "version": ""
  }
 },
 "nbformat": 4,
 "nbformat_minor": 2
}
